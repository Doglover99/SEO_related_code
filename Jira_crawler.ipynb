{
 "cells": [
  {
   "cell_type": "markdown",
   "metadata": {
    "id": "_9pa4jONiDyl"
   },
   "source": [
    "# **Install Jira module beneath**"
   ]
  },
  {
   "cell_type": "code",
   "execution_count": 1,
   "metadata": {
    "colab": {
     "base_uri": "https://localhost:8080/"
    },
    "executionInfo": {
     "elapsed": 9291,
     "status": "ok",
     "timestamp": 1718250033085,
     "user": {
      "displayName": "Insight Data",
      "userId": "08120576851246954934"
     },
     "user_tz": -480
    },
    "id": "YRiKCI2kNE28",
    "outputId": "1bf2456f-5fc1-4f4b-be9d-9f2590b812e9"
   },
   "outputs": [
    {
     "name": "stdout",
     "output_type": "stream",
     "text": [
      "Collecting jira\n",
      "  Downloading jira-3.8.0-py3-none-any.whl (77 kB)\n",
      "\u001b[2K     \u001b[90m━━━━━━━━━━━━━━━━━━━━━━━━━━━━━━━━━━━━━━━━\u001b[0m \u001b[32m77.5/77.5 kB\u001b[0m \u001b[31m392.3 kB/s\u001b[0m eta \u001b[36m0:00:00\u001b[0m\n",
      "\u001b[?25hRequirement already satisfied: defusedxml in /usr/local/lib/python3.10/dist-packages (from jira) (0.7.1)\n",
      "Requirement already satisfied: packaging in /usr/local/lib/python3.10/dist-packages (from jira) (24.1)\n",
      "Requirement already satisfied: Pillow>=2.1.0 in /usr/local/lib/python3.10/dist-packages (from jira) (9.4.0)\n",
      "Requirement already satisfied: requests-oauthlib>=1.1.0 in /usr/local/lib/python3.10/dist-packages (from jira) (1.3.1)\n",
      "Requirement already satisfied: requests>=2.10.0 in /usr/local/lib/python3.10/dist-packages (from jira) (2.31.0)\n",
      "Collecting requests-toolbelt (from jira)\n",
      "  Downloading requests_toolbelt-1.0.0-py2.py3-none-any.whl (54 kB)\n",
      "\u001b[2K     \u001b[90m━━━━━━━━━━━━━━━━━━━━━━━━━━━━━━━━━━━━━━━━\u001b[0m \u001b[32m54.5/54.5 kB\u001b[0m \u001b[31m1.6 MB/s\u001b[0m eta \u001b[36m0:00:00\u001b[0m\n",
      "\u001b[?25hRequirement already satisfied: typing-extensions>=3.7.4.2 in /usr/local/lib/python3.10/dist-packages (from jira) (4.12.2)\n",
      "Requirement already satisfied: charset-normalizer<4,>=2 in /usr/local/lib/python3.10/dist-packages (from requests>=2.10.0->jira) (3.3.2)\n",
      "Requirement already satisfied: idna<4,>=2.5 in /usr/local/lib/python3.10/dist-packages (from requests>=2.10.0->jira) (3.7)\n",
      "Requirement already satisfied: urllib3<3,>=1.21.1 in /usr/local/lib/python3.10/dist-packages (from requests>=2.10.0->jira) (2.0.7)\n",
      "Requirement already satisfied: certifi>=2017.4.17 in /usr/local/lib/python3.10/dist-packages (from requests>=2.10.0->jira) (2024.6.2)\n",
      "Requirement already satisfied: oauthlib>=3.0.0 in /usr/local/lib/python3.10/dist-packages (from requests-oauthlib>=1.1.0->jira) (3.2.2)\n",
      "Installing collected packages: requests-toolbelt, jira\n",
      "Successfully installed jira-3.8.0 requests-toolbelt-1.0.0\n"
     ]
    }
   ],
   "source": [
    "pip install jira"
   ]
  },
  {
   "cell_type": "code",
   "execution_count": null,
   "metadata": {
    "cellView": "form",
    "colab": {
     "base_uri": "https://localhost:8080/"
    },
    "executionInfo": {
     "elapsed": 1979,
     "status": "ok",
     "timestamp": 1718250035059,
     "user": {
      "displayName": "Insight Data",
      "userId": "08120576851246954934"
     },
     "user_tz": -480
    },
    "id": "7CqTol2OjCco",
    "outputId": "9fa9f155-b02e-4c68-bf33-b21f8fd6993c"
   },
   "outputs": [
    {
     "name": "stderr",
     "output_type": "stream",
     "text": [
      "INFO:jira:Trying to refresh the cookie auth session...\n"
     ]
    }
   ],
   "source": [
    "# @title Login\n",
    "from jira import JIRA\n",
    "import pandas as pd\n",
    "from datetime import datetime\n",
    "\n",
    "Account_Name =  'name' \n",
    "Password = 'password'  \n",
    "jira = JIRA('https://ec-service.asus.com/jira/', auth=(Account_Name,Password))"
   ]
  },
  {
   "cell_type": "code",
   "execution_count": null,
   "metadata": {
    "cellView": "form",
    "colab": {
     "base_uri": "https://localhost:8080/"
    },
    "executionInfo": {
     "elapsed": 81210,
     "status": "ok",
     "timestamp": 1718250116265,
     "user": {
      "displayName": "Insight Data",
      "userId": "08120576851246954934"
     },
     "user_tz": -480
    },
    "id": "om-5cyH-TGpB",
    "outputId": "802e4bcc-8fe7-4fa2-b388-d0bdc3b0366e"
   },
   "outputs": [
    {
     "name": "stdout",
     "output_type": "stream",
     "text": [
      "問題  不存在。錯誤信息: JiraError HTTP 405 url: https://ec-service.asus.com/jira/rest/api/2/issue/\n",
      "\t\n",
      "\tresponse headers = {'Date': 'Thu, 13 Jun 2024 03:40:40 GMT', 'Content-Type': 'text/html;charset=UTF-8', 'Connection': 'keep-alive', 'X-DataDome': 'protected', 'Accept-CH': 'Sec-CH-UA,Sec-CH-UA-Mobile,Sec-CH-UA-Platform,Sec-CH-UA-Arch,Sec-CH-UA-Full-Version-List,Sec-CH-UA-Model,Sec-CH-Device-Memory', 'Set-Cookie': 'datadome=kKFgYPuSA3iQj7xbSRG6RMXo40XyNB5LymPEispoMrg_e46o1OHy16m3Ws~r75PFkxeKBBvATJDdo5gA1RDU225ZCpS4IYVFbUPxZ9pLw0bDOuO5jmzS3DJe5t7kwZHW; Max-Age=31536000; Domain=.asus.com; Path=/; Secure; SameSite=Lax, TS01ad4907=0188058bf9b03d3a2bf9e092c931662ee9d7807c3cf7e3dd1834562815a7fd403ae6b5c307322d3dc1090d9f3ee94fc82f7d77e11e; Path=/; Secure; HTTPOnly, TS01d862b6=0188058bf9b03d3a2bf9e092c931662ee9d7807c3cf7e3dd1834562815a7fd403ae6b5c307322d3dc1090d9f3ee94fc82f7d77e11e; path=/; domain=.asus.com; HTTPonly; Secure', 'X-AREQUESTID': '700x33579168x1', 'X-ASESSIONID': '6tg4pj', 'Referrer-Policy': 'strict-origin-when-cross-origin', 'X-XSS-Protection': '1; mode=block', 'X-Content-Type-Options': 'nosniff', 'X-Frame-Options': 'SAMEORIGIN', 'Content-Security-Policy': \"frame-ancestors 'self'\", 'Strict-Transport-Security': 'max-age=31536000, max-age=31536000; includeSubDomains', 'X-Seraph-LoginReason': 'OK', 'X-AUSERNAME': 'Jd_Wu', 'Allow': 'POST,OPTIONS', 'Content-Encoding': 'gzip', 'Vary': 'User-Agent', 'Transfer-Encoding': 'chunked'}\n",
      "\tresponse text = \n",
      "問題  不存在。錯誤信息: JiraError HTTP 405 url: https://ec-service.asus.com/jira/rest/api/2/issue/\n",
      "\t\n",
      "\tresponse headers = {'Date': 'Thu, 13 Jun 2024 03:40:40 GMT', 'Content-Type': 'text/html;charset=UTF-8', 'Connection': 'keep-alive', 'X-DataDome': 'protected', 'Accept-CH': 'Sec-CH-UA,Sec-CH-UA-Mobile,Sec-CH-UA-Platform,Sec-CH-UA-Arch,Sec-CH-UA-Full-Version-List,Sec-CH-UA-Model,Sec-CH-Device-Memory', 'Set-Cookie': 'datadome=8VeEeGzUFvnphh9T1oSqV6iwiSZ74SXPtbvBP4XclA8j0ZY84ntxwkGKXhgdOeLydT9FXvu9ZlL5BPhewLP21oYEUE6DVpAiUDRCmKC3q~nkQalP1PTpgrkaXq5Fzc5o; Max-Age=31536000; Domain=.asus.com; Path=/; Secure; SameSite=Lax, TS01ad4907=0188058bf9b03d3a2bf9e092c931662ee9d7807c3cf7e3dd1834562815a7fd403ae6b5c307322d3dc1090d9f3ee94fc82f7d77e11e; Path=/; Secure; HTTPOnly, TS01d862b6=0188058bf9b03d3a2bf9e092c931662ee9d7807c3cf7e3dd1834562815a7fd403ae6b5c307322d3dc1090d9f3ee94fc82f7d77e11e; path=/; domain=.asus.com; HTTPonly; Secure', 'X-AREQUESTID': '700x33579172x1', 'X-ASESSIONID': '6tg4pj', 'Referrer-Policy': 'strict-origin-when-cross-origin', 'X-XSS-Protection': '1; mode=block', 'X-Content-Type-Options': 'nosniff', 'X-Frame-Options': 'SAMEORIGIN', 'Content-Security-Policy': \"frame-ancestors 'self'\", 'Strict-Transport-Security': 'max-age=31536000, max-age=31536000; includeSubDomains', 'X-Seraph-LoginReason': 'OK', 'X-AUSERNAME': 'Jd_Wu', 'Allow': 'POST,OPTIONS', 'Content-Encoding': 'gzip', 'Vary': 'User-Agent', 'Transfer-Encoding': 'chunked'}\n",
      "\tresponse text = \n"
     ]
    }
   ],
   "source": [
    "# @title Basic_Demand\n",
    "issue_keys = \"BUG2IN1-14402,BUG2IN1-14639,BUG2IN1-14621,BUG2IN1-14646,BUG2IN1-14642,BUG2IN1-14624,BUG2IN1-14623,BUG2IN1-14403,BUG2IN1-14699,BUG2IN1-14716,BUG2IN1-14717,BUG2IN1-14717,BUG2IN1-14707,BUG2IN1-14715,BUG2IN1-14713,BUG2IN1-14700,BUG2IN1-14620,BUG2IN1-14708,BUG2IN1-14710,BUG2IN1-14702,BUG2IN1-15686,BUG2IN1-15683,BUG2IN1-15684,BUG2IN1-11555,BUG2IN1-15682,BUG2IN1-14030,BUG2IN1-14031,BUG2IN1-14032,BUG2IN1-14033,BUG2IN1-14035,BUG2IN1-14035,BUG2IN1-14036,BUG2IN1-11596,BUG2IN1-11591,BUG2IN1-15681,BUG2IN1-15679,BUG2IN1-15680,BUG2IN1-14016,BUG2IN1-14019,BUG2IN1-14022,BUG2IN1-14014,BUG2IN1-14018,BUG2IN1-14024,BUG2IN1-14025,BUG2IN1-11616,BUG2IN1-11617,BUG2IN1-12592,BUG2IN1-14017,BUG2IN1-15685,,BUG2IN1-15678,,BUG2IN1-15687,BUG2IN1-15677,BUG2IN1-15676,BUG2IN1-14026,BUG2IN1-14027,BUG2IN1-14028,BUG2IN1-14029,BUG2IN1-18117,BUG2IN1-18118,BUG2IN1-18119,BUG2IN1-18140,BUG2IN1-18120,BUG2IN1-18121,BUG2IN1-18122,BUG2IN1-18123,BUG2IN1-18124,BUG2IN1-18125,BUG2IN1-18270,BUG2IN1-18271,BUG2IN1-18272,BUG2IN1-18273,BUG2IN1-18274,BUG2IN1-18275,BUG2IN1-18276,BUG2IN1-18277,BUG2IN1-18278,BUG2IN1-18279,BUG2IN1-18280,BUG2IN1-18281,BUG2IN1-18282,BUG2IN1-18283,BUG2IN1-19578,BUG2IN1-19579,BUG2IN1-19564,BUG2IN1-19565,BUG2IN1-19566,BUG2IN1-19577,BUG2IN1-18285,BUG2IN1-18286,BUG2IN1-18287,BUG2IN1-18289,BUG2IN1-18290,BUG2IN1-18292,BUG2IN1-18294,BUG2IN1-18295,BUG2IN1-18296,BUG2IN1-18297,BUG2IN1-18299,BUG2IN1-18302,BUG2IN1-19247,BUG2IN1-19248,BUG2IN1-19249,BUG2IN1-19250,BUG2IN1-19251,BUG2IN1-19252,BUG2IN1-19253,BUG2IN1-19254,BUG2IN1-19599,BUG2IN1-19602,BUG2IN1-19603,BUG2IN1-19604,BUG2IN1-19605,BUG2IN1-19606,BUG2IN1-19607,BUG2IN1-19668,BUG2IN1-18284,BUG2IN1-18288,BUG2IN1-18291,BUG2IN1-18293,BUG2IN1-18298,BUG2IN1-18300,BUG2IN1-18301,BUG2IN1-19255,BUG2IN1-19256,BUG2IN1-19611,BUG2IN1-19612,BUG2IN1-19613,BUG2IN1-14874,ST2IN1-5419,ST2IN1-5420,ST2IN1-5422,BZ-166,ST2IN1-5423,BUG2IN1-15920,BUG2IN1-15921,BUG2IN1-15925,BUG2IN1-15926,BUG2IN1-15872,BUG2IN1-15873,BUG2IN1-15874,BUG2IN1-15875,BUG2IN1-16120,BUG2IN1-16124,BUG2IN1-16125,BUG2IN1-16126,BUG2IN1-16127,BUG2IN1-16129,BUG2IN1-16130,BUG2IN1-16131,BUG2IN1-16132,BUG2IN1-16133,BUG2IN1-16134,BUG2IN1-16135,BUG2IN1-16135,BUG2IN1-16135,BUG2IN1-16136,BUG2IN1-16136,BUG2IN1-16137,BUG2IN1-16137,BUG2IN1-16138,BUG2IN1-16139,BUG2IN1-16140,BUG2IN1-16141,BUG2IN1-16142,BUG2IN1-16143,BUG2IN1-16144,BUG2IN1-16145,BUG2IN1-16146,BUG2IN1-16147,BUG2IN1-16148,BUG2IN1-16149,BUG2IN1-16156,BUG2IN1-16157,BUG2IN1-16158,BUG2IN1-16159,BUG2IN1-16160,BUG2IN1-16166,BUG2IN1-16161,BUG2IN1-16165,BUG2IN1-16167,BUG2IN1-16162,BUG2IN1-16163,BUG2IN1-16164,BUG2IN1-16168,BUG2IN1-16169,BUG2IN1-16170,BUG2IN1-16171,BUG2IN1-16172,BUG2IN1-16173,BUG2IN1-16174,BUG2IN1-16175,BUG2IN1-16176,BUG2IN1-16188,BUG2IN1-16189,BUG2IN1-16190,BUG2IN1-16191,BUG2IN1-16192,BUG2IN1-16193,BUG2IN1-16194,BUG2IN1-16195,BUG2IN1-16048,BUG2IN1-15900,BUG2IN1-15901,BUG2IN1-15902,BUG2IN1-16396,BUG2IN1-16396,BUG2IN1-16396,BUG2IN1-16396,BUG2IN1-16397,BUG2IN1-16397,BUG2IN1-16397,BUG2IN1-16398,BUG2IN1-15903,BUG2IN1-16399,BUG2IN1-16400,BUG2IN1-15904,BUG2IN1-15904,BUG2IN1-15904,BUG2IN1-16401,BUG2IN1-16401,BUG2IN1-16402,BUG2IN1-16402,BUG2IN1-15905,BUG2IN1-16403,BUG2IN1-16404,BUG2IN1-15906,BUG2IN1-16405,BUG2IN1-16406,BUG2IN1-15907,BUG2IN1-15908,BUG2IN1-15968,BUG2IN1-15969,BUG2IN1-15970,BUG2IN1-17095,BUG2IN1-15971,BUG2IN1-16426,BUG2IN1-15972,BUG2IN1-15973,BUG2IN1-15974,BUG2IN1-17097,BUG2IN1-15975,BUG2IN1-16427,BUG2IN1-16428,BUG2IN1-15976,BUG2IN1-15977,BUG2IN1-15778,BUG2IN1-15808,BUG2IN1-15809,BUG2IN1-15810,BUG2IN1-15810,BUG2IN1-15810,BUG2IN1-15811,BUG2IN1-15812,BUG2IN1-15813,BUG2IN1-15815,BUG2IN1-15816,BUG2IN1-15817,BUG2IN1-15819,BUG2IN1-15820,BUG2IN1-15820,BUG2IN1-15820,BUG2IN1-15821,BUG2IN1-15822,BUG2IN1-15823,BUG2IN1-15824,BUG2IN1-15824,BUG2IN1-15825,BUG2IN1-15826,BUG2IN1-15827,BUG2IN1-15827,BUG2IN1-15828,BUG2IN1-15840,BUG2IN1-15841,BUG2IN1-15843,BUG2IN1-15844,BUG2IN1-15845,BUG2IN1-15846,BUG2IN1-15862,BUG2IN1-15863,BUG2IN1-15863,BUG2IN1-15864,BUG2IN1-15865,BUG2IN1-15866,BUG2IN1-15867,BUG2IN1-15868,BUG2IN1-15869,BUG2IN1-15870,BUG2IN1-15871,BUG2IN1-15898,BUG2IN1-15899,BUG2IN1-15656,BUG2IN1-16342,BUG2IN1-16343,BUG2IN1-16345,BUG2IN1-16347,BUG2IN1-16347,BUG2IN1-16348,BUG2IN1-16348,BUG2IN1-16348,BUG2IN1-16349,BUG2IN1-16350,BUG2IN1-16351,BUG2IN1-16352,BUG2IN1-16357,BUG2IN1-16358,BUG2IN1-16359,BUG2IN1-16360,BUG2IN1-16360,BUG2IN1-16360,BUG2IN1-16361,BUG2IN1-16361,BUG2IN1-16362,BUG2IN1-16363,BUG2IN1-16363,BUG2IN1-16364,BUG2IN1-16365,BUG2IN1-16366,BUG2IN1-16367,BUG2IN1-16368,BUG2IN1-16369,BUG2IN1-16370,BUG2IN1-16371,BUG2IN1-16372,BUG2IN1-16374,BUG2IN1-16375,BUG2IN1-16376,BUG2IN1-16377,BUG2IN1-16378,BUG2IN1-16379,BUG2IN1-16380,BUG2IN1-16381,BUG2IN1-16382,BUG2IN1-16383,BUG2IN1-16384,BUG2IN1-16385,BUG2IN1-16386,BUG2IN1-16387,BUG2IN1-16388,BUG2IN1-16389,BUG2IN1-16781,BUG2IN1-16575,BUG2IN1-16636,BUG2IN1-16638,BUG2IN1-16640,BUG2IN1-16644,BUG2IN1-16650,BUG2IN1-16654,BUG2IN1-16655,BUG2IN1-16656,BUG2IN1-16657,BUG2IN1-16658,BUG2IN1-16659,BUG2IN1-16660,BUG2IN1-16691,BUG2IN1-16692,BUG2IN1-16693,BUG2IN1-16695,BUG2IN1-16695,BUG2IN1-16695,BUG2IN1-16695,BUG2IN1-16696,BUG2IN1-16696,BUG2IN1-16696,BUG2IN1-16696,BUG2IN1-16697,BUG2IN1-16698,BUG2IN1-16699,BUG2IN1-16700,BUG2IN1-16701,BUG2IN1-16702,BUG2IN1-16702,BUG2IN1-16702,BUG2IN1-16703,BUG2IN1-16703,BUG2IN1-16704,BUG2IN1-16704,BUG2IN1-16721,BUG2IN1-16722,BUG2IN1-16724,BUG2IN1-16725,BUG2IN1-16726,BUG2IN1-16727,BUG2IN1-16728,BUG2IN1-16729,BUG2IN1-16730,BUG2IN1-16731,BUG2IN1-16735,BUG2IN1-16736,BUG2IN1-16740,BUG2IN1-16741,BUG2IN1-16742,BUG2IN1-16743,BUG2IN1-16744,BUG2IN1-16745,BUG2IN1-16746,BUG2IN1-16747,BUG2IN1-16748,BUG2IN1-16749,BUG2IN1-16750,BUG2IN1-16751,BUG2IN1-16752,BUG2IN1-16753,BUG2IN1-16754,BUG2IN1-16755,BUG2IN1-15776,BUG2IN1-17570,BUG2IN1-17572,BUG2IN1-17573,BUG2IN1-17574,BUG2IN1-17575,BUG2IN1-17576,BUG2IN1-17577,BUG2IN1-17578,BUG2IN1-17579,BUG2IN1-17580,BUG2IN1-17581,BUG2IN1-17582,BUG2IN1-17583,BUG2IN1-16586,BUG2IN1-16587,BUG2IN1-16588,BUG2IN1-16589,BUG2IN1-16590,BUG2IN1-16591,BUG2IN1-16591,BUG2IN1-16592,BUG2IN1-16593,BUG2IN1-16594,BUG2IN1-16595,BUG2IN1-16596,BUG2IN1-16597,BUG2IN1-16598,BUG2IN1-16598,BUG2IN1-16598,BUG2IN1-16599,BUG2IN1-16599,BUG2IN1-16600,BUG2IN1-16600,BUG2IN1-16601,BUG2IN1-16602,BUG2IN1-16603,BUG2IN1-16604,BUG2IN1-17037,BUG2IN1-16630,BUG2IN1-16631,BUG2IN1-16632,BUG2IN1-16633,BUG2IN1-16633,BUG2IN1-16633,BUG2IN1-16633,BUG2IN1-16634,BUG2IN1-16322,BUG2IN1-16635,BUG2IN1-17038,BUG2IN1-16637,BUG2IN1-16637,BUG2IN1-16637,BUG2IN1-16639,BUG2IN1-16639,BUG2IN1-16641,BUG2IN1-16641,BUG2IN1-16642,BUG2IN1-16643,BUG2IN1-16645,BUG2IN1-16646,BUG2IN1-16647,BUG2IN1-16648,BUG2IN1-16649,BUG2IN1-16651,BUG2IN1-16653,BUG2IN1-16628,BUG2IN1-16867,BUG2IN1-16868,BUG2IN1-16869,BUG2IN1-16870,BUG2IN1-16871,BUG2IN1-16872,BUG2IN1-17005,BUG2IN1-16873,BUG2IN1-16874,BUG2IN1-16875,BUG2IN1-16876,BUG2IN1-16877,BUG2IN1-16878,BUG2IN1-16879,BUG2IN1-16880,BUG2IN1-16881,BUG2IN1-17679,BUG2IN1-17697,BUG2IN1-17698,BUG2IN1-17699,BUG2IN1-17707,BUG2IN1-17708,BUG2IN1-17710,BUG2IN1-17715,BUG2IN1-17716,BUG2IN1-17717,BUG2IN1-17718,BUG2IN1-19644,BUG2IN1-17719,BUG2IN1-17720,BUG2IN1-17721,BUG2IN1-17722,BUG2IN1-17723,BUG2IN1-17724,BUG2IN1-17725,BUG2IN1-17729,BUG2IN1-17730,BUG2IN1-17731,BUG2IN1-17732,BUG2IN1-17733,BUG2IN1-17734,BUG2IN1-17735,BUG2IN1-17737,BUG2IN1-17738,BUG2IN1-17739,BUG2IN1-17740,BUG2IN1-17741,BUG2IN1-17742,BUG2IN1-17743,BUG2IN1-17744,BUG2IN1-17757,BUG2IN1-17745,BUG2IN1-17857,BUG2IN1-17858,BUG2IN1-19628,BUG2IN1-19633,BUG2IN1-19639,BUG2IN1-19643,BUG2IN1-19647,BUG2IN1-19650,BUG2IN1-19651,BUG2IN1-19654,BUG2IN1-19656,BUG2IN1-19658,BUG2IN1-17746,BUG2IN1-17749,BUG2IN1-17750,BUG2IN1-17751,BUG2IN1-17752,BUG2IN1-17753,BUG2IN1-17754,BUG2IN1-17756,BUG2IN1-17758,BUG2IN1-17759,BUG2IN1-17760,BUG2IN1-17761,BUG2IN1-17762,BUG2IN1-17767,BUG2IN1-17768,BUG2IN1-17769,BUG2IN1-17854,BUG2IN1-17855,BUG2IN1-17856,BUG2IN1-19662,BUG2IN1-19630,BUG2IN1-19635,BUG2IN1-19637,BUG2IN1-19641,BUG2IN1-19652,BUG2IN1-19655,BUG2IN1-19657,BUG2IN1-19669,BUG2IN1-19020,BUG2IN1-19026,BUG2IN1-19027,BUG2IN1-19028,BUG2IN1-19029,BUG2IN1-19030,BUG2IN1-19031,BUG2IN1-19032,BUG2IN1-19033,BUG2IN1-19034,BUG2IN1-19035,BUG2IN1-19037,BUG2IN1-19038,BUG2IN1-19039,BUG2IN1-19040,BUG2IN1-19041,BUG2IN1-19042,BUG2IN1-19043,BUG2IN1-19044,BUG2IN1-19045,BUG2IN1-19046,BUG2IN1-19047,BUG2IN1-19583,BUG2IN1-19584,BUG2IN1-19585,BUG2IN1-19586,BUG2IN1-19587,BUG2IN1-19588,BUG2IN1-19589,BUG2IN1-19590,BUG2IN1-19591,BUG2IN1-19592,BUG2IN1-19593,BUG2IN1-19594,BUG2IN1-19595,BUG2IN1-19596,BUG2IN1-19597,BUG2IN1-19598,BUG2IN1-19600,BUG2IN1-19601,BUG2IN1-19610,BUG2IN1-19614,BUG2IN1-19615,BUG2IN1-19616,BUG2IN1-19617,BUG2IN1-19618,BUG2IN1-19621,BUG2IN1-19622,BUG2IN1-19623,BUG2IN1-19624,BUG2IN1-19625,BUG2IN1-19626,BUG2IN1-19627,BUG2IN1-19629,BUG2IN1-19631,BUG2IN1-19632,BUG2IN1-19634,BUG2IN1-19636,BUG2IN1-19638,BUG2IN1-19640,BUG2IN1-19642,BUG2IN1-19645,BUG2IN1-19646,BUG2IN1-19648,BUG2IN1-19649,BUG2IN1-20284,BUG2IN1-20293,BUG2IN1-20294,BUG2IN1-20295,BUG2IN1-19852,BUG2IN1-19854,BUG2IN1-19855,BUG2IN1-19897,BUG2IN1-19899,BUG2IN1-19900,BUG2IN1-19902,BUG2IN1-19903,BUG2IN1-19904,BUG2IN1-19906,BUG2IN1-19907,BUG2IN1-19909,BUG2IN1-19910,BUG2IN1-19911,BUG2IN1-19912,BUG2IN1-19914,BUG2IN1-19915,BUG2IN1-19916,BUG2IN1-19933,BUG2IN1-19936,BUG2IN1-19938,BUG2IN1-19939,BUG2IN1-19940,BUG2IN1-19941,BUG2IN1-19942,BUG2IN1-19943,BUG2IN1-19944,BUG2IN1-19945,BUG2IN1-19946,BUG2IN1-19947,BUG2IN1-19948,BUG2IN1-19949,BUG2IN1-19950,BUG2IN1-19951,BUG2IN1-19952,BUG2IN1-19953,BUG2IN1-19954,BUG2IN1-19684,BUG2IN1-19673,BUG2IN1-19674,BUG2IN1-19675,BUG2IN1-19727,BUG2IN1-19838,BUG2IN1-19840,BUG2IN1-19842,BUG2IN1-19847,BUG2IN1-19848,BUG2IN1-19856,BUG2IN1-19857,BUG2IN1-19858,BUG2IN1-19859,BUG2IN1-19868,BUG2IN1-19869,BUG2IN1-19870,BUG2IN1-19871,BUG2IN1-19872,ST2IN1-7375,BUG2IN1-19987,BUG2IN1-19988,BUG2IN1-19989,BUG2IN1-19991,BUG2IN1-19992,BUG2IN1-19993,BUG2IN1-19994,BUG2IN1-19995,BUG2IN1-20137,BUG2IN1-20139,BUG2IN1-20142,BUG2IN1-20143,BUG2IN1-20144,BUG2IN1-20145,BUG2IN1-20319,BUG2IN1-20320,BUG2IN1-20370,BUG2IN1-20371,BUG2IN1-20372,BUG2IN1-20373,BUG2IN1-20374,BUG2IN1-20375,BUG2IN1-19481,BUG2IN1-19783,BUG2IN1-19784,BUG2IN1-19785,BUG2IN1-19786,BUG2IN1-19787,BUG2IN1-19789,BUG2IN1-19790,BUG2IN1-19791,BUG2IN1-19802,BUG2IN1-19803,BUG2IN1-19804,BUG2IN1-19805,BUG2IN1-19896,BUG2IN1-20038,BUG2IN1-20039,BUG2IN1-20041,BUG2IN1-20043,BUG2IN1-20044,BUG2IN1-20453,BUG2IN1-20454,BUG2IN1-20455,BUG2IN1-20456,BUG2IN1-20457\" \n",
    "new_issue_keys = issue_keys.split(',')\n",
    "\n",
    "issue_data_list = []\n",
    "\n",
    "for issue_key in new_issue_keys:\n",
    "    try:\n",
    "        issue = jira.issue(issue_key)\n",
    "        issue_data = {\n",
    "            'IssueKey': issue.key,\n",
    "            'Summary': issue.fields.summary,\n",
    "            'Status': issue.fields.status.name,\n",
    "            'Updated': datetime.strptime(issue.fields.updated[:10], \"%Y-%m-%d\"),\n",
    "            'Assignee': issue.fields.assignee.displayName,\n",
    "        }\n",
    "        issue_data_list.append(issue_data)\n",
    "    except Exception as e:\n",
    "        print(f\"問題 {issue_key} 不存在。錯誤信息: {e}\")\n",
    "        issue_data_list.append({\n",
    "            'IssueKey': issue_key,\n",
    "            'Summary': None,\n",
    "            'Status': None,\n",
    "            'Updated': None,\n",
    "            'Assignee': None,\n",
    "        })\n",
    "report_df1 = pd.DataFrame(issue_data_list)\n",
    "Document_name = \"technical_bi-weekly_demo\" \n",
    "report_df1.to_excel(Document_name + '.xlsx', index=False)"
   ]
  },
  {
   "cell_type": "code",
   "execution_count": null,
   "metadata": {
    "cellView": "form",
    "id": "jQJaimgINP8z"
   },
   "outputs": [],
   "source": [
    "# @title Basic_Demand + Comment\n",
    "issue_keys = \"BUG2IN1-14402,BUG2IN1-14639,BUG2IN1-14621\" \n",
    "new_issue_keys = issue_keys.split(',')\n",
    "\n",
    "issue_data_list = []\n",
    "\n",
    "for issue_key in new_issue_keys:\n",
    "    latest_feedback = {}\n",
    "\n",
    "    try:\n",
    "        issue = jira.issue(issue_key)\n",
    "        comments = jira.issue(issue_key).fields.comment.comments\n",
    "        latest_comment = None\n",
    "        if comments:\n",
    "            latest_comment = comments[-1]\n",
    "        if latest_comment:\n",
    "            comment_body = latest_comment.body\n",
    "            comment_time = latest_comment.created\n",
    "        else:\n",
    "            comment_body = None\n",
    "            comment_time = None\n",
    "        issue_data = {\n",
    "            'IssueKey': issue.key,\n",
    "            'Summary': issue.fields.summary,\n",
    "            'Status': issue.fields.status.name,\n",
    "            'Updated': datetime.strptime(issue.fields.updated[:10], \"%Y-%m-%d\"),\n",
    "            'Assignee': issue.fields.assignee.displayName,\n",
    "            'Comment_content': comment_body,\n",
    "            'Comment_time': comment_time,\n",
    "        }\n",
    "\n",
    "        issue_data_list.append(issue_data)\n",
    "    except Exception as e:\n",
    "        print(f\"問題 {issue_key} 不存在。錯誤信息: {e}\")\n",
    "        issue_data_list.append({\n",
    "            'IssueKey': issue_key,\n",
    "            'Summary': None,\n",
    "            'Status': None,\n",
    "            'Updated': None,\n",
    "            'Assignee': None,\n",
    "            'Comment_content': None,\n",
    "            'Comment_time': None,\n",
    "        })\n",
    "\n",
    "report_df2 = pd.DataFrame(issue_data_list)\n",
    "Document_name = \"technical_bi-weekly_C_0606\"\n",
    "report_df2.to_excel(Document_name + '.xlsx', index=False)"
   ]
  },
  {
   "cell_type": "code",
   "execution_count": null,
   "metadata": {
    "cellView": "form",
    "id": "CV9RiavRNYZF"
   },
   "outputs": [],
   "source": [
    "# @title Basic_Demand + Related Issue\n",
    "\n",
    "issue_keys = \"BUG2IN1-14402,BUG2IN1-14639,BUG2IN1-14621,BUG2IN1-14646,BUG2IN1-14642,BUG2IN1-14624,BUG2IN1-14623,BUG2IN1-14403,BUG2IN1-14699,BUG2IN1-14716,BUG2IN1-14717,BUG2IN1-14717\" # @param {type:\"string\"}\n",
    "new_issue_keys = issue_keys.split(',')\n",
    "\n",
    "issue_data_list = []\n",
    "\n",
    "for issue_key in new_issue_keys:\n",
    "    try:\n",
    "        issue = jira.issue(issue_key)\n",
    "\n",
    "        related_issues = [] \n",
    "\n",
    "        issue_data = {\n",
    "            'IssueKey': issue.key,\n",
    "            'Summary': issue.fields.summary,\n",
    "            'Status': issue.fields.status.name,\n",
    "            'Updated': datetime.strptime(issue.fields.updated[:10], \"%Y-%m-%d\"),\n",
    "        }\n",
    "\n",
    "        assignee = issue.fields.assignee\n",
    "        if assignee:\n",
    "            issue_data['Assignee'] = assignee.displayName\n",
    "        else:\n",
    "            issue_data['Assignee'] = None\n",
    "\n",
    "        issuelinks = issue.fields.issuelinks if hasattr(issue.fields, 'issuelinks') else []\n",
    "        for link in issuelinks:\n",
    "            if hasattr(link, 'inwardIssue') and hasattr(link.inwardIssue, 'key'):\n",
    "                inward_key = link.inwardIssue.key\n",
    "                inward_issue = jira.issue(inward_key)\n",
    "                related_data = {\n",
    "                    'IssueKey': issue.key,\n",
    "                    'Summary': issue.fields.summary,\n",
    "                    'Status': issue.fields.status.name,\n",
    "                    'Updated': datetime.strptime(issue.fields.updated[:10], \"%Y-%m-%d\"),\n",
    "                    'Assignee': issue.fields.assignee,\n",
    "                    'RelatedIssueKey': inward_key if inward_key else None,\n",
    "                    'RelatedIssueSummary': inward_issue.fields.summary if inward_issue.fields.summary else None,\n",
    "                    'RelatedIssueStatus': inward_issue.fields.status.name if inward_issue.fields.status else None,\n",
    "                    'RelatedIssueDueDate': datetime.strptime(inward_issue.fields.duedate[:10], \"%Y-%m-%d\") if inward_issue.fields.duedate else None,\n",
    "                    'LinkedIssuetype': link.type.name if link.type.name else None,\n",
    "                }\n",
    "                related_issues.append(related_data)\n",
    "\n",
    "            if hasattr(link, 'outwardIssue') and hasattr(link.outwardIssue, 'key'):\n",
    "                outward_key = link.outwardIssue.key\n",
    "                outward_issue = jira.issue(outward_key)\n",
    "                related_data = {\n",
    "                    'IssueKey': issue.key,\n",
    "                    'Summary': issue.fields.summary,\n",
    "                    'Status': issue.fields.status.name,\n",
    "                    'Updated': datetime.strptime(issue.fields.updated[:10], \"%Y-%m-%d\"),\n",
    "                    'Assignee': issue.fields.assignee,\n",
    "                    'RelatedIssueKey': outward_key if outward_key else None,\n",
    "                    'RelatedIssueSummary': outward_issue.fields.summary if outward_issue.fields.summary else None,\n",
    "                    'RelatedIssueStatus': outward_issue.fields.status.name if outward_issue.fields.status else None,\n",
    "                    'RelatedIssueDueDate': datetime.strptime(outward_issue.fields.duedate[:10], \"%Y-%m-%d\") if outward_issue.fields.duedate else None,\n",
    "                    'LinkedIssuetype': link.type.name if link.type.name else None,\n",
    "                }\n",
    "                related_issues.append(related_data)\n",
    "\n",
    "        issue_data_list.append(issue_data)\n",
    "\n",
    "        issue_data_list.extend(related_issues)\n",
    "\n",
    "    except Exception as e:\n",
    "        print(f\"問題 {issue_key} 不存在。錯誤訊息: {e}\")\n",
    "        issue_data_list.append({\n",
    "            'IssueKey': issue_key,\n",
    "            'Summary': None,\n",
    "            'Status': None,\n",
    "            'Updated': None,\n",
    "            'Assignee': None,\n",
    "            'RelatedIssueKey': None,\n",
    "            'RelatedIssueSummary': None,\n",
    "            'RelatedIssueStatus': None,\n",
    "            'RelatedIssueDueDate': None,\n",
    "        })\n",
    "\n",
    "report_df3 = pd.DataFrame(issue_data_list)\n",
    "report_df3 = report_df3[~(report_df3.duplicated(subset=['IssueKey'], keep=False) & report_df3['RelatedIssueKey'].isna())]\n",
    "report_df3.drop_duplicates(subset=['IssueKey', 'RelatedIssueKey'], keep='first', inplace=True)\n",
    "\n",
    "Document_name = \"technical_bi-weekly_R_0606\"\n",
    "report_df3.to_excel(Document_name + '.xlsx', index=False)"
   ]
  },
  {
   "cell_type": "code",
   "execution_count": null,
   "metadata": {
    "id": "tDup8Bx3eZjG"
   },
   "outputs": [],
   "source": []
  }
 ],
 "metadata": {
  "colab": {
   "authorship_tag": "ABX9TyOTyq3pXDqbmRXJxO7Yf1d+",
   "provenance": []
  },
  "kernelspec": {
   "display_name": "Python 3",
   "name": "python3"
  },
  "language_info": {
   "name": "python"
  }
 },
 "nbformat": 4,
 "nbformat_minor": 0
}
