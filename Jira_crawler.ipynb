{
 "cells": [
  {
   "cell_type": "markdown",
   "metadata": {
    "id": "_9pa4jONiDyl"
   },
   "source": [
    "# **Install Jira module beneath**"
   ]
  },
  {
   "cell_type": "code",
   "execution_count": 1,
   "metadata": {
    "colab": {
     "base_uri": "https://localhost:8080/"
    },
    "executionInfo": {
     "elapsed": 9291,
     "status": "ok",
     "timestamp": 1718250033085,
     "user": {
      "displayName": "Insight Data",
      "userId": "08120576851246954934"
     },
     "user_tz": -480
    },
    "id": "YRiKCI2kNE28",
    "outputId": "1bf2456f-5fc1-4f4b-be9d-9f2590b812e9"
   },
   "outputs": [
    {
     "name": "stdout",
     "output_type": "stream",
     "text": [
      "Collecting jira\n",
      "  Downloading jira-3.8.0-py3-none-any.whl (77 kB)\n",
      "\u001b[2K     \u001b[90m━━━━━━━━━━━━━━━━━━━━━━━━━━━━━━━━━━━━━━━━\u001b[0m \u001b[32m77.5/77.5 kB\u001b[0m \u001b[31m392.3 kB/s\u001b[0m eta \u001b[36m0:00:00\u001b[0m\n",
      "\u001b[?25hRequirement already satisfied: defusedxml in /usr/local/lib/python3.10/dist-packages (from jira) (0.7.1)\n",
      "Requirement already satisfied: packaging in /usr/local/lib/python3.10/dist-packages (from jira) (24.1)\n",
      "Requirement already satisfied: Pillow>=2.1.0 in /usr/local/lib/python3.10/dist-packages (from jira) (9.4.0)\n",
      "Requirement already satisfied: requests-oauthlib>=1.1.0 in /usr/local/lib/python3.10/dist-packages (from jira) (1.3.1)\n",
      "Requirement already satisfied: requests>=2.10.0 in /usr/local/lib/python3.10/dist-packages (from jira) (2.31.0)\n",
      "Collecting requests-toolbelt (from jira)\n",
      "  Downloading requests_toolbelt-1.0.0-py2.py3-none-any.whl (54 kB)\n",
      "\u001b[2K     \u001b[90m━━━━━━━━━━━━━━━━━━━━━━━━━━━━━━━━━━━━━━━━\u001b[0m \u001b[32m54.5/54.5 kB\u001b[0m \u001b[31m1.6 MB/s\u001b[0m eta \u001b[36m0:00:00\u001b[0m\n",
      "\u001b[?25hRequirement already satisfied: typing-extensions>=3.7.4.2 in /usr/local/lib/python3.10/dist-packages (from jira) (4.12.2)\n",
      "Requirement already satisfied: charset-normalizer<4,>=2 in /usr/local/lib/python3.10/dist-packages (from requests>=2.10.0->jira) (3.3.2)\n",
      "Requirement already satisfied: idna<4,>=2.5 in /usr/local/lib/python3.10/dist-packages (from requests>=2.10.0->jira) (3.7)\n",
      "Requirement already satisfied: urllib3<3,>=1.21.1 in /usr/local/lib/python3.10/dist-packages (from requests>=2.10.0->jira) (2.0.7)\n",
      "Requirement already satisfied: certifi>=2017.4.17 in /usr/local/lib/python3.10/dist-packages (from requests>=2.10.0->jira) (2024.6.2)\n",
      "Requirement already satisfied: oauthlib>=3.0.0 in /usr/local/lib/python3.10/dist-packages (from requests-oauthlib>=1.1.0->jira) (3.2.2)\n",
      "Installing collected packages: requests-toolbelt, jira\n",
      "Successfully installed jira-3.8.0 requests-toolbelt-1.0.0\n"
     ]
    }
   ],
   "source": [
    "pip install jira"
   ]
  },
  {
   "cell_type": "code",
   "execution_count": null,
   "metadata": {
    "cellView": "form",
    "colab": {
     "base_uri": "https://localhost:8080/"
    },
    "executionInfo": {
     "elapsed": 1979,
     "status": "ok",
     "timestamp": 1718250035059,
     "user": {
      "displayName": "Insight Data",
      "userId": "08120576851246954934"
     },
     "user_tz": -480
    },
    "id": "7CqTol2OjCco",
    "outputId": "9fa9f155-b02e-4c68-bf33-b21f8fd6993c"
   },
   "outputs": [
    {
     "name": "stderr",
     "output_type": "stream",
     "text": [
      "INFO:jira:Trying to refresh the cookie auth session...\n"
     ]
    }
   ],
   "source": [
    "# @title Login\n",
    "from jira import JIRA\n",
    "import pandas as pd\n",
    "from datetime import datetime\n",
    "\n",
    "Account_Name =  'name' \n",
    "Password = 'password'  \n",
    "jira = JIRA('https://aaa.com/jira/', auth=(Account_Name,Password))"
   ]
  },
  {
   "cell_type": "code",
   "execution_count": null,
   "metadata": {
    "cellView": "form",
    "colab": {
     "base_uri": "https://localhost:8080/"
    },
    "executionInfo": {
     "elapsed": 81210,
     "status": "ok",
     "timestamp": 1718250116265,
     "user": {
      "displayName": "Insight Data",
      "userId": "08120576851246954934"
     },
     "user_tz": -480
    },
    "id": "om-5cyH-TGpB",
    "outputId": "802e4bcc-8fe7-4fa2-b388-d0bdc3b0366e"
   },
   "outputs": [
    {
     "name": "stdout",
     "output_type": "stream",
     "text": [
      "問題  不存在。錯誤信息: JiraError HTTP 405 url: https://ec-service.asus.com/jira/rest/api/2/issue/\n",
      "\t\n",
      "\tresponse headers = {'Date': 'Thu, 13 Jun 2024 03:40:40 GMT', 'Content-Type': 'text/html;charset=UTF-8', 'Connection': 'keep-alive', 'X-DataDome': 'protected', 'Accept-CH': 'Sec-CH-UA,Sec-CH-UA-Mobile,Sec-CH-UA-Platform,Sec-CH-UA-Arch,Sec-CH-UA-Full-Version-List,Sec-CH-UA-Model,Sec-CH-Device-Memory', 'Set-Cookie': 'datadome=kKFgYPuSA3iQj7xbSRG6RMXo40XyNB5LymPEispoMrg_e46o1OHy16m3Ws~r75PFkxeKBBvATJDdo5gA1RDU225ZCpS4IYVFbUPxZ9pLw0bDOuO5jmzS3DJe5t7kwZHW; Max-Age=31536000; Domain=.asus.com; Path=/; Secure; SameSite=Lax, TS01ad4907=0188058bf9b03d3a2bf9e092c931662ee9d7807c3cf7e3dd1834562815a7fd403ae6b5c307322d3dc1090d9f3ee94fc82f7d77e11e; Path=/; Secure; HTTPOnly, TS01d862b6=0188058bf9b03d3a2bf9e092c931662ee9d7807c3cf7e3dd1834562815a7fd403ae6b5c307322d3dc1090d9f3ee94fc82f7d77e11e; path=/; domain=.asus.com; HTTPonly; Secure', 'X-AREQUESTID': '700x33579168x1', 'X-ASESSIONID': '6tg4pj', 'Referrer-Policy': 'strict-origin-when-cross-origin', 'X-XSS-Protection': '1; mode=block', 'X-Content-Type-Options': 'nosniff', 'X-Frame-Options': 'SAMEORIGIN', 'Content-Security-Policy': \"frame-ancestors 'self'\", 'Strict-Transport-Security': 'max-age=31536000, max-age=31536000; includeSubDomains', 'X-Seraph-LoginReason': 'OK', 'X-AUSERNAME': 'Jd_Wu', 'Allow': 'POST,OPTIONS', 'Content-Encoding': 'gzip', 'Vary': 'User-Agent', 'Transfer-Encoding': 'chunked'}\n",
      "\tresponse text = \n",
      "問題  不存在。錯誤信息: JiraError HTTP 405 url: https://ec-service.asus.com/jira/rest/api/2/issue/\n",
      "\t\n",
      "\tresponse headers = {'Date': 'Thu, 13 Jun 2024 03:40:40 GMT', 'Content-Type': 'text/html;charset=UTF-8', 'Connection': 'keep-alive', 'X-DataDome': 'protected', 'Accept-CH': 'Sec-CH-UA,Sec-CH-UA-Mobile,Sec-CH-UA-Platform,Sec-CH-UA-Arch,Sec-CH-UA-Full-Version-List,Sec-CH-UA-Model,Sec-CH-Device-Memory', 'Set-Cookie': 'datadome=8VeEeGzUFvnphh9T1oSqV6iwiSZ74SXPtbvBP4XclA8j0ZY84ntxwkGKXhgdOeLydT9FXvu9ZlL5BPhewLP21oYEUE6DVpAiUDRCmKC3q~nkQalP1PTpgrkaXq5Fzc5o; Max-Age=31536000; Domain=.asus.com; Path=/; Secure; SameSite=Lax, TS01ad4907=0188058bf9b03d3a2bf9e092c931662ee9d7807c3cf7e3dd1834562815a7fd403ae6b5c307322d3dc1090d9f3ee94fc82f7d77e11e; Path=/; Secure; HTTPOnly, TS01d862b6=0188058bf9b03d3a2bf9e092c931662ee9d7807c3cf7e3dd1834562815a7fd403ae6b5c307322d3dc1090d9f3ee94fc82f7d77e11e; path=/; domain=.asus.com; HTTPonly; Secure', 'X-AREQUESTID': '700x33579172x1', 'X-ASESSIONID': '6tg4pj', 'Referrer-Policy': 'strict-origin-when-cross-origin', 'X-XSS-Protection': '1; mode=block', 'X-Content-Type-Options': 'nosniff', 'X-Frame-Options': 'SAMEORIGIN', 'Content-Security-Policy': \"frame-ancestors 'self'\", 'Strict-Transport-Security': 'max-age=31536000, max-age=31536000; includeSubDomains', 'X-Seraph-LoginReason': 'OK', 'X-AUSERNAME': 'Jd_Wu', 'Allow': 'POST,OPTIONS', 'Content-Encoding': 'gzip', 'Vary': 'User-Agent', 'Transfer-Encoding': 'chunked'}\n",
      "\tresponse text = \n"
     ]
    }
   ],
   "source": [
    "# @title Basic_Demand\n",
    "issue_keys = \"BUG2IN1-14402,BUG2IN1-14639,BUG2IN1-14621\" \n",
    "new_issue_keys = issue_keys.split(',')\n",
    "\n",
    "issue_data_list = []\n",
    "\n",
    "for issue_key in new_issue_keys:\n",
    "    try:\n",
    "        issue = jira.issue(issue_key)\n",
    "        issue_data = {\n",
    "            'IssueKey': issue.key,\n",
    "            'Summary': issue.fields.summary,\n",
    "            'Status': issue.fields.status.name,\n",
    "            'Updated': datetime.strptime(issue.fields.updated[:10], \"%Y-%m-%d\"),\n",
    "            'Assignee': issue.fields.assignee.displayName,\n",
    "        }\n",
    "        issue_data_list.append(issue_data)\n",
    "    except Exception as e:\n",
    "        print(f\"問題 {issue_key} 不存在。錯誤信息: {e}\")\n",
    "        issue_data_list.append({\n",
    "            'IssueKey': issue_key,\n",
    "            'Summary': None,\n",
    "            'Status': None,\n",
    "            'Updated': None,\n",
    "            'Assignee': None,\n",
    "        })\n",
    "report_df1 = pd.DataFrame(issue_data_list)\n",
    "Document_name = \"technical_bi-weekly_demo\" \n",
    "report_df1.to_excel(Document_name + '.xlsx', index=False)"
   ]
  },
  {
   "cell_type": "code",
   "execution_count": null,
   "metadata": {
    "cellView": "form",
    "id": "jQJaimgINP8z"
   },
   "outputs": [],
   "source": [
    "# @title Basic_Demand + Comment\n",
    "issue_keys = \"BUG2IN1-14402,BUG2IN1-14639,BUG2IN1-14621\" \n",
    "new_issue_keys = issue_keys.split(',')\n",
    "\n",
    "issue_data_list = []\n",
    "\n",
    "for issue_key in new_issue_keys:\n",
    "    latest_feedback = {}\n",
    "\n",
    "    try:\n",
    "        issue = jira.issue(issue_key)\n",
    "        comments = jira.issue(issue_key).fields.comment.comments\n",
    "        latest_comment = None\n",
    "        if comments:\n",
    "            latest_comment = comments[-1]\n",
    "        if latest_comment:\n",
    "            comment_body = latest_comment.body\n",
    "            comment_time = latest_comment.created\n",
    "        else:\n",
    "            comment_body = None\n",
    "            comment_time = None\n",
    "        issue_data = {\n",
    "            'IssueKey': issue.key,\n",
    "            'Summary': issue.fields.summary,\n",
    "            'Status': issue.fields.status.name,\n",
    "            'Updated': datetime.strptime(issue.fields.updated[:10], \"%Y-%m-%d\"),\n",
    "            'Assignee': issue.fields.assignee.displayName,\n",
    "            'Comment_content': comment_body,\n",
    "            'Comment_time': comment_time,\n",
    "        }\n",
    "\n",
    "        issue_data_list.append(issue_data)\n",
    "    except Exception as e:\n",
    "        print(f\"問題 {issue_key} 不存在。錯誤信息: {e}\")\n",
    "        issue_data_list.append({\n",
    "            'IssueKey': issue_key,\n",
    "            'Summary': None,\n",
    "            'Status': None,\n",
    "            'Updated': None,\n",
    "            'Assignee': None,\n",
    "            'Comment_content': None,\n",
    "            'Comment_time': None,\n",
    "        })\n",
    "\n",
    "report_df2 = pd.DataFrame(issue_data_list)\n",
    "Document_name = \"technical_bi-weekly_C_0606\"\n",
    "report_df2.to_excel(Document_name + '.xlsx', index=False)"
   ]
  },
  {
   "cell_type": "code",
   "execution_count": null,
   "metadata": {
    "cellView": "form",
    "id": "CV9RiavRNYZF"
   },
   "outputs": [],
   "source": [
    "# @title Basic_Demand + Related Issue\n",
    "\n",
    "issue_keys = \"BUG2IN1-14402,BUG2IN1-14639,BUG2IN1-14621,BUG2IN1-14646\"\n",
    "new_issue_keys = issue_keys.split(',')\n",
    "\n",
    "issue_data_list = []\n",
    "\n",
    "for issue_key in new_issue_keys:\n",
    "    try:\n",
    "        issue = jira.issue(issue_key)\n",
    "\n",
    "        related_issues = [] \n",
    "\n",
    "        issue_data = {\n",
    "            'IssueKey': issue.key,\n",
    "            'Summary': issue.fields.summary,\n",
    "            'Status': issue.fields.status.name,\n",
    "            'Updated': datetime.strptime(issue.fields.updated[:10], \"%Y-%m-%d\"),\n",
    "        }\n",
    "\n",
    "        assignee = issue.fields.assignee\n",
    "        if assignee:\n",
    "            issue_data['Assignee'] = assignee.displayName\n",
    "        else:\n",
    "            issue_data['Assignee'] = None\n",
    "\n",
    "        issuelinks = issue.fields.issuelinks if hasattr(issue.fields, 'issuelinks') else []\n",
    "        for link in issuelinks:\n",
    "            if hasattr(link, 'inwardIssue') and hasattr(link.inwardIssue, 'key'):\n",
    "                inward_key = link.inwardIssue.key\n",
    "                inward_issue = jira.issue(inward_key)\n",
    "                related_data = {\n",
    "                    'IssueKey': issue.key,\n",
    "                    'Summary': issue.fields.summary,\n",
    "                    'Status': issue.fields.status.name,\n",
    "                    'Updated': datetime.strptime(issue.fields.updated[:10], \"%Y-%m-%d\"),\n",
    "                    'Assignee': issue.fields.assignee,\n",
    "                    'RelatedIssueKey': inward_key if inward_key else None,\n",
    "                    'RelatedIssueSummary': inward_issue.fields.summary if inward_issue.fields.summary else None,\n",
    "                    'RelatedIssueStatus': inward_issue.fields.status.name if inward_issue.fields.status else None,\n",
    "                    'RelatedIssueDueDate': datetime.strptime(inward_issue.fields.duedate[:10], \"%Y-%m-%d\") if inward_issue.fields.duedate else None,\n",
    "                    'LinkedIssuetype': link.type.name if link.type.name else None,\n",
    "                }\n",
    "                related_issues.append(related_data)\n",
    "\n",
    "            if hasattr(link, 'outwardIssue') and hasattr(link.outwardIssue, 'key'):\n",
    "                outward_key = link.outwardIssue.key\n",
    "                outward_issue = jira.issue(outward_key)\n",
    "                related_data = {\n",
    "                    'IssueKey': issue.key,\n",
    "                    'Summary': issue.fields.summary,\n",
    "                    'Status': issue.fields.status.name,\n",
    "                    'Updated': datetime.strptime(issue.fields.updated[:10], \"%Y-%m-%d\"),\n",
    "                    'Assignee': issue.fields.assignee,\n",
    "                    'RelatedIssueKey': outward_key if outward_key else None,\n",
    "                    'RelatedIssueSummary': outward_issue.fields.summary if outward_issue.fields.summary else None,\n",
    "                    'RelatedIssueStatus': outward_issue.fields.status.name if outward_issue.fields.status else None,\n",
    "                    'RelatedIssueDueDate': datetime.strptime(outward_issue.fields.duedate[:10], \"%Y-%m-%d\") if outward_issue.fields.duedate else None,\n",
    "                    'LinkedIssuetype': link.type.name if link.type.name else None,\n",
    "                }\n",
    "                related_issues.append(related_data)\n",
    "\n",
    "        issue_data_list.append(issue_data)\n",
    "\n",
    "        issue_data_list.extend(related_issues)\n",
    "\n",
    "    except Exception as e:\n",
    "        print(f\"問題 {issue_key} 不存在。錯誤訊息: {e}\")\n",
    "        issue_data_list.append({\n",
    "            'IssueKey': issue_key,\n",
    "            'Summary': None,\n",
    "            'Status': None,\n",
    "            'Updated': None,\n",
    "            'Assignee': None,\n",
    "            'RelatedIssueKey': None,\n",
    "            'RelatedIssueSummary': None,\n",
    "            'RelatedIssueStatus': None,\n",
    "            'RelatedIssueDueDate': None,\n",
    "        })\n",
    "\n",
    "report_df3 = pd.DataFrame(issue_data_list)\n",
    "report_df3 = report_df3[~(report_df3.duplicated(subset=['IssueKey'], keep=False) & report_df3['RelatedIssueKey'].isna())]\n",
    "report_df3.drop_duplicates(subset=['IssueKey', 'RelatedIssueKey'], keep='first', inplace=True)\n",
    "\n",
    "Document_name = \"technical_bi-weekly_R_0606\"\n",
    "report_df3.to_excel(Document_name + '.xlsx', index=False)"
   ]
  },
  {
   "cell_type": "code",
   "execution_count": null,
   "metadata": {
    "id": "tDup8Bx3eZjG"
   },
   "outputs": [],
   "source": []
  }
 ],
 "metadata": {
  "colab": {
   "authorship_tag": "ABX9TyOTyq3pXDqbmRXJxO7Yf1d+",
   "provenance": []
  },
  "kernelspec": {
   "display_name": "Python 3",
   "name": "python3"
  },
  "language_info": {
   "name": "python"
  }
 },
 "nbformat": 4,
 "nbformat_minor": 0
}
